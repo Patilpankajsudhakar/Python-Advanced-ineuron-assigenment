{
 "cells": [
  {
   "cell_type": "markdown",
   "id": "77098324-0b50-4d1a-8a8b-dabd3799f77d",
   "metadata": {},
   "source": [
    "Q1. Is an assignment operator like += only for show? Is it possible that it would lead to faster results\n",
    "at the runtime?\n",
    "Answer:\n",
    "+= is use to help fast operation\n",
    "Yes it is inplace adding"
   ]
  },
  {
   "cell_type": "markdown",
   "id": "f48bad1d-3264-4e5e-b55a-8f50d3242cf3",
   "metadata": {},
   "source": [
    "Q2. What is the smallest number of statements you'd have to write in most programming languages to\n",
    "replace the Python expression a, b = a + b, a?\n",
    "\n",
    "Answer: a = a+b\n",
    "b = a\n"
   ]
  },
  {
   "cell_type": "markdown",
   "id": "59a3ee05-87eb-4a83-b861-51791633ab02",
   "metadata": {},
   "source": [
    "Q3. In Python, what is the most effective way to set a list of 100 integers to 0?\n",
    "Answer: list.clear()"
   ]
  },
  {
   "cell_type": "markdown",
   "id": "e665699f-226e-4512-9ac5-eda0a3830d68",
   "metadata": {},
   "source": [
    "Q4. What is the most effective way to initialise a list of 99 integers that repeats the sequence 1, 2, 3?\n",
    "S If necessary, show step-by-step instructions on how to accomplish this."
   ]
  },
  {
   "cell_type": "code",
   "execution_count": 2,
   "id": "934003cd-d6e2-4ba4-a625-a7509656d578",
   "metadata": {},
   "outputs": [
    {
     "name": "stdout",
     "output_type": "stream",
     "text": [
      "0\n",
      "1\n",
      "2\n",
      "3\n",
      "4\n",
      "5\n",
      "6\n",
      "7\n",
      "8\n",
      "9\n",
      "10\n",
      "11\n",
      "12\n",
      "13\n",
      "14\n",
      "15\n",
      "16\n",
      "17\n",
      "18\n",
      "19\n",
      "20\n",
      "21\n",
      "22\n",
      "23\n",
      "24\n",
      "25\n",
      "26\n",
      "27\n",
      "28\n",
      "29\n",
      "30\n",
      "31\n",
      "32\n",
      "33\n",
      "34\n",
      "35\n",
      "36\n",
      "37\n",
      "38\n",
      "39\n",
      "40\n",
      "41\n",
      "42\n",
      "43\n",
      "44\n",
      "45\n",
      "46\n",
      "47\n",
      "48\n",
      "49\n",
      "50\n",
      "51\n",
      "52\n",
      "53\n",
      "54\n",
      "55\n",
      "56\n",
      "57\n",
      "58\n",
      "59\n",
      "60\n",
      "61\n",
      "62\n",
      "63\n",
      "64\n",
      "65\n",
      "66\n",
      "67\n",
      "68\n",
      "69\n",
      "70\n",
      "71\n",
      "72\n",
      "73\n",
      "74\n",
      "75\n",
      "76\n",
      "77\n",
      "78\n",
      "79\n",
      "80\n",
      "81\n",
      "82\n",
      "83\n",
      "84\n",
      "85\n",
      "86\n",
      "87\n",
      "88\n",
      "89\n",
      "90\n",
      "91\n",
      "92\n",
      "93\n",
      "94\n",
      "95\n",
      "96\n",
      "97\n",
      "98\n",
      "99\n"
     ]
    }
   ],
   "source": [
    "l = []\n",
    "for i in range(100):\n",
    "    l.append(i)\n",
    "    print(i)"
   ]
  },
  {
   "cell_type": "markdown",
   "id": "86de438e-041c-408f-9488-6bb41cf39f61",
   "metadata": {},
   "source": [
    "Q5. If you're using IDLE to run a Python application, explain how to print a multidimensional list as\n",
    "efficiently?"
   ]
  },
  {
   "cell_type": "code",
   "execution_count": 3,
   "id": "d52026a6-0253-4f36-8275-68eb56f2f3ac",
   "metadata": {},
   "outputs": [
    {
     "name": "stdout",
     "output_type": "stream",
     "text": [
      "[[0, 0, 0, 0, 0], [0, 0, 0, 0, 0], [0, 0, 0, 0, 0], [0, 0, 0, 0, 0]]\n"
     ]
    }
   ],
   "source": [
    "m = 4\n",
    "n = 5\n",
    "  \n",
    "a = [[0 for x in range(n)] for x in range(m)]\n",
    "print(a)"
   ]
  },
  {
   "cell_type": "markdown",
   "id": "ddf7a0e5-5f57-437a-8033-747774f73aaa",
   "metadata": {},
   "source": [
    "Q6. Is it possible to use list comprehension with a string? If so, how can you go about doing it?\n"
   ]
  },
  {
   "cell_type": "code",
   "execution_count": 4,
   "id": "b357fbbf-718a-47b9-90ce-4a5f8dd22e4f",
   "metadata": {},
   "outputs": [
    {
     "name": "stdout",
     "output_type": "stream",
     "text": [
      "['A', 'S', 'H', 'I', 'S', 'H']\n"
     ]
    }
   ],
   "source": [
    "h_letters = [ letter for letter in 'ASHISH' ]\n",
    "print( h_letters)\n",
    "     "
   ]
  },
  {
   "cell_type": "markdown",
   "id": "07929bae-10a9-49f2-bb42-df6a4dec5711",
   "metadata": {},
   "source": [
    "Q7. From the command line, how do you get support with a user-written Python programme? Is this\n",
    "possible from inside IDLE?\n"
   ]
  },
  {
   "cell_type": "markdown",
   "id": "a725e8dc-9c8e-4e7b-810e-ca7c0cdea95d",
   "metadata": {},
   "source": [
    "Answeer: we can peform different things like downloading packages cecking python creating environemnt from CLI a terminal window is there in IDLE to do the same."
   ]
  },
  {
   "cell_type": "markdown",
   "id": "2e1d2325-1cfa-41fc-8440-9fc68b6297ac",
   "metadata": {},
   "source": [
    "Q8. Functions are said to be “first-class objects” in Python but not in most other languages, such as\n",
    "C++ or Java. What can you do in Python with a function (callable object) that you can't do in C or\n",
    "C++?"
   ]
  },
  {
   "cell_type": "markdown",
   "id": "4e363f63-34bd-4285-abb5-4173833c7014",
   "metadata": {},
   "source": [
    "Answer: functions behave like any other object, such as an int or a list. That means that you can use functions as arguments to other functions, store functions as dictionary values, or return a function from another function. This leads to many powerful ways to use functions."
   ]
  },
  {
   "cell_type": "markdown",
   "id": "6b562864-659f-4712-82b1-9e8a50943fcc",
   "metadata": {},
   "source": [
    "Q9. How do you distinguish between a wrapper, a wrapped feature, and a decorator?"
   ]
  },
  {
   "cell_type": "markdown",
   "id": "8e9581b1-84f6-4f54-ab8a-ccff6c9293aa",
   "metadata": {},
   "source": [
    "Answer: Decorators allow us to wrap another function in order to extend the behavior of the wrapped function, without permanently modifying it. In Decorators, functions are taken as the argument into another function and then called inside the wrapper function.\n",
    "\n",
    "@wrapper\n",
    "\n",
    "def function(n):\n",
    "\n",
    "statements(s)\n",
    "\n",
    "similar to\n",
    "\n",
    "def function(n):\n",
    "\n",
    "statement(s)\n",
    "\n",
    "function = wrapper(function)"
   ]
  },
  {
   "cell_type": "markdown",
   "id": "5e51cd5a-8e11-4617-a540-ae5b2e8cc877",
   "metadata": {},
   "source": [
    "Q10. If a function is a generator function, what does it return?"
   ]
  },
  {
   "cell_type": "markdown",
   "id": "cde5cc45-ebd5-48d5-af04-5d57b498c323",
   "metadata": {},
   "source": [
    "Answer: A generator is a special type of function which does not return a single value, instead, it returns an iterator object with a sequence of values. In a generator function, a yield statement is used rather than a return statement."
   ]
  },
  {
   "cell_type": "markdown",
   "id": "05f6c288-bb58-4154-8894-5d76b81ffaca",
   "metadata": {},
   "source": [
    "Q11. What is the one improvement that must be made to a function in order for it to become a\n",
    "generator function in the Python language?"
   ]
  },
  {
   "cell_type": "markdown",
   "id": "aabfb79f-f261-4387-b33e-cc2074fb8003",
   "metadata": {},
   "source": [
    "Answer: to make function as generator used yield keyword"
   ]
  },
  {
   "cell_type": "markdown",
   "id": "69b1d20f-a236-4235-8c55-857b82956ed7",
   "metadata": {},
   "source": [
    "Q12. Identify at least one benefit of generators."
   ]
  },
  {
   "cell_type": "markdown",
   "id": "bcce6e41-81b6-4d7c-9fc5-170ccb44875c",
   "metadata": {},
   "source": [
    "Answer: Generator functions allow you to declare a function that behaves like an iterator. They allow programmers to make an iterator in a fast, easy, and clean way."
   ]
  }
 ],
 "metadata": {
  "kernelspec": {
   "display_name": "Python 3 (ipykernel)",
   "language": "python",
   "name": "python3"
  },
  "language_info": {
   "codemirror_mode": {
    "name": "ipython",
    "version": 3
   },
   "file_extension": ".py",
   "mimetype": "text/x-python",
   "name": "python",
   "nbconvert_exporter": "python",
   "pygments_lexer": "ipython3",
   "version": "3.10.6"
  }
 },
 "nbformat": 4,
 "nbformat_minor": 5
}
