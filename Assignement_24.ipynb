{
 "cells": [
  {
   "cell_type": "markdown",
   "id": "f6ae082e-8891-4fec-a72f-ac55987a081f",
   "metadata": {},
   "source": [
    "Q1. Is it permissible to use several import statements to import the same module? What would the\n",
    "goal be? Can you think of a situation where it would be beneficial?\n"
   ]
  },
  {
   "cell_type": "markdown",
   "id": "90ca43de-6d1a-4f97-ab63-5aed1f5a0f29",
   "metadata": {},
   "source": [
    "Answer: If a module has already been imported, it's not loaded again. we will simply get a reference to the module that has already been imported."
   ]
  },
  {
   "cell_type": "markdown",
   "id": "5f20c943-c8be-440a-a68e-1d9d84fb19d4",
   "metadata": {},
   "source": [
    "Q2. What are some of a module's characteristics? (Name at least one.)\n"
   ]
  },
  {
   "cell_type": "markdown",
   "id": "7b87c1b6-7f47-45db-b1b6-152956185404",
   "metadata": {},
   "source": [
    "Answer: Characteristics of Modules\n",
    "\n",
    "Modules contain instructions, processing logic, and data.\n",
    "Modules can be separately compiled and stored in a library.\n",
    "Modules can be included in a program.\n",
    "Module segments can be used by invoking a name and some parameters.\n",
    "Module segments can be used by other modules."
   ]
  },
  {
   "cell_type": "markdown",
   "id": "dbf4ae30-9fe6-4c37-b371-09d1c0239742",
   "metadata": {},
   "source": [
    "Q3. Circular importing, such as when two modules import each other, can lead to dependencies and\n",
    "bugs that aren't visible. How can you go about creating a program that avoids mutual importing?\n"
   ]
  },
  {
   "cell_type": "markdown",
   "id": "0226a689-3fa9-4266-9ebc-a43862dfb4f6",
   "metadata": {},
   "source": [
    "Answer: Circular importing is a form of circular dependency that is created with the import statement in Python.\n",
    "\n",
    "ircular imports are the result of bad designs. A deeper analysis of the program could have concluded that the dependency isn't actually required, or that the depended functionality can be moved to different modules that wouldn't contain the circular reference.\n",
    "A simple solution is that sometimes both modules can just be merged into a single, larger module."
   ]
  },
  {
   "cell_type": "markdown",
   "id": "2098036e-5e8d-4146-a09f-9820aaa100d1",
   "metadata": {},
   "source": [
    "Q4. Why is _ _all_ _ in Python?"
   ]
  },
  {
   "cell_type": "markdown",
   "id": "a454c00b-9736-4bf4-bca5-fa8469d7816a",
   "metadata": {},
   "source": [
    "Answer: The all tells the semantically “public” names from the module. If there is a name in all, the users are expected to use it, and they can expect that it will not change. By default, Python will export all names that do not start with an _. we certainly could rely on this mechanism."
   ]
  },
  {
   "cell_type": "markdown",
   "id": "de83624e-b8c6-4431-82ad-892f09c1463b",
   "metadata": {},
   "source": [
    "Q5. In what situation is it useful to refer to the _ _name_ _ attribute or the string \"_ _main_ _\"?\n"
   ]
  },
  {
   "cell_type": "markdown",
   "id": "8b77f042-eec3-402b-bae5-73d7d307da5a",
   "metadata": {},
   "source": [
    "Answer: name is a built-in variable which evaluates to the name of the current module. Thus it can be used to check whether the current script is being run on its own or being imported somewhere else by combining it with if statement"
   ]
  },
  {
   "cell_type": "markdown",
   "id": "ac770698-b722-49fb-b903-9bcad52037ab",
   "metadata": {},
   "source": [
    "Q6. What are some of the benefits of attaching a program counter to the RPN interpreter\n",
    "application, which interprets an RPN script line by line?\n"
   ]
  },
  {
   "cell_type": "markdown",
   "id": "2fcab807-f9f4-4d5b-9170-2972845bf86c",
   "metadata": {},
   "source": [
    "Answer: An advantage of reverse Polish notation is that it removes the need for parentheses that are required by infix notation. While 3 − 4 × 5 can also be written 3 − (4 × 5), that means something quite different from (3 − 4) × 5. A program counter is also known as an instruction counter, instruction pointer, instruction address register or sequence control register. It is a digital counter needed for faster execution of tasks as well as for tracking the current execution point"
   ]
  },
  {
   "cell_type": "markdown",
   "id": "b314237d-695b-4b98-83c9-488a3f34e9ec",
   "metadata": {},
   "source": [
    "Q7. What are the minimum expressions or statements (or both) that you'd need to render a basic\n",
    "programming language like RPN primitive but complete— that is, capable of carrying out any\n",
    "computerised task theoretically possible?"
   ]
  },
  {
   "cell_type": "code",
   "execution_count": 3,
   "id": "01124356-919e-4b05-810e-c19366529e03",
   "metadata": {},
   "outputs": [
    {
     "name": "stdin",
     "output_type": "stream",
     "text": [
      " 1 2 /\n"
     ]
    },
    {
     "name": "stdout",
     "output_type": "stream",
     "text": [
      "0.5\n"
     ]
    }
   ],
   "source": [
    "# Reverse Polish Notation (RPN) Evaluator in Python\n",
    "import logging\n",
    "import operator as op\n",
    "import sys\n",
    "from typing import Any, List, Union\n",
    "\n",
    "logging.getLogger(__name__).setLevel(\"INFO\")\n",
    "supported_operators = {\"+\": op.add, \"-\": op.sub, \"*\": op.mul, \"/\": op.truediv}\n",
    "Number = Union[int, float]\n",
    "\n",
    "def tokenize(expr: str) -> List[str]:\n",
    "    \"\"\"Breaks expression `expr` into a list of tokens\"\"\"\n",
    "    return expr.split(\" \")\n",
    "\n",
    "def mpop(stack: List[Any], n: int = 1) -> List[Any]:\n",
    "    \"\"\"Pops and returns `n` items from a stack. Mutates `stack`\"\"\"\n",
    "    return [stack.pop() for _ in range(n)]\n",
    "\n",
    "def to_num(x: Any) -> Number:\n",
    "    \"\"\"Converts a value to a its appropriate numeric type\"\"\"\n",
    "    n = float(x)\n",
    "    return int(n) if n.is_integer() else n\n",
    "\n",
    "def consume_token(token: str, stack: List[Number]) -> List[Number]:\n",
    "    \"\"\"Consumes a token given the current stack and returns the updated stack\"\"\"\n",
    "    if token in supported_operators:\n",
    "        try:\n",
    "            num1, num2 = mpop(stack, 2)\n",
    "        except IndexError:\n",
    "            logging.error(\"SyntaxError: Malformed expression\")\n",
    "            sys.exit(1)\n",
    "\n",
    "        result = supported_operators[token](num2, num1)\n",
    "        return [*stack, result]\n",
    "    else:\n",
    "        try:\n",
    "            return [*stack, to_num(token)]\n",
    "        except ValueError:\n",
    "            logging.error(\"SyntaxError: Unsupported token '%s'\", token)\n",
    "            sys.exit(1)\n",
    "\n",
    "def get_result_from_stack(stack: List[Number]) -> Number:\n",
    "    \"\"\"Gets the result from `stack`\"\"\"\n",
    "    result, *rest = mpop(stack, 1)\n",
    "    if rest:\n",
    "        logging.error(\"SyntaxError: Found extra tokens\")\n",
    "        sys.exit(1)\n",
    "    return result\n",
    "\n",
    "def evaluate_v1(tokens: List[str]) -> Number:\n",
    "    \"\"\"Evaluates a tokenized expression and returns the result\"\"\"\n",
    "    stack: List = []\n",
    "\n",
    "    for token in tokens:\n",
    "        stack = consume_token(token, stack)\n",
    "\n",
    "    return get_result_from_stack(stack)\n",
    "\n",
    "def evaluate_v2(tokens: List[str]) -> Number:\n",
    "    \"\"\"Evaluates a tokenized expression and returns the result\"\"\"\n",
    "\n",
    "    def _evaluate(tokens: List[str], stack: List) -> Number:\n",
    "        if not tokens:\n",
    "            return get_result_from_stack(stack)\n",
    "\n",
    "        stack = consume_token(tokens[0], stack)\n",
    "\n",
    "        return _evaluate(tokens[1:], stack)\n",
    "\n",
    "    return _evaluate(tokens, [])\n",
    "\n",
    "if __name__ == \"__main__\":\n",
    "    \n",
    "    print(evaluate_v2(tokenize(input())))\n"
   ]
  }
 ],
 "metadata": {
  "kernelspec": {
   "display_name": "Python 3 (ipykernel)",
   "language": "python",
   "name": "python3"
  },
  "language_info": {
   "codemirror_mode": {
    "name": "ipython",
    "version": 3
   },
   "file_extension": ".py",
   "mimetype": "text/x-python",
   "name": "python",
   "nbconvert_exporter": "python",
   "pygments_lexer": "ipython3",
   "version": "3.10.6"
  }
 },
 "nbformat": 4,
 "nbformat_minor": 5
}
