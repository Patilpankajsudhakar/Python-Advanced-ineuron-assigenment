{
 "cells": [
  {
   "cell_type": "markdown",
   "id": "6b7bd35a-6101-4050-9b0d-6ddbb694963c",
   "metadata": {},
   "source": [
    "Q1. Explain the difference between greedy and non-greedy syntax with visual terms in as few words\n",
    "as possible. What is the bare minimum effort required to transform a greedy pattern into a non-greedy\n",
    "one? What characters or characters can you introduce or change?"
   ]
  },
  {
   "cell_type": "markdown",
   "id": "786f3947-374a-4cd7-8b88-b0e18fac00aa",
   "metadata": {},
   "source": [
    "Answer: So the difference between the greedy and the non-greedy match is the following:\n",
    "The greedy match will try to match as many repetitions of the quantified pattern as possible. The non-greedy match will try to match as few repetitions of the quantified pattern as possible.\n",
    "\n",
    "the bare minimum effort required to transform a greedy pattern into a non-greedy one can be just implemented by using a singlle character. The ? operand makes match non-greedy. E.g. .* is greedy while .*? isn't."
   ]
  },
  {
   "cell_type": "markdown",
   "id": "5cf62966-6685-485e-a0d1-a3107188c591",
   "metadata": {},
   "source": [
    "Q2. When exactly does greedy versus non-greedy make a difference?  What if you're looking for a\n",
    "non-greedy match but the only one available is greedy?"
   ]
  },
  {
   "cell_type": "markdown",
   "id": "62b4fde5-8829-4a99-96fc-abc498c62479",
   "metadata": {},
   "source": [
    "Answer: So the difference between the greedy and the non-greedy match is the following: \n",
    "The greedy match will try to match as many repetitions of the quantified pattern as possible. The non-greedy match will try to match as few repetitions of the quantified pattern as possible.\n",
    "\n",
    "example: To make the quantifier non-greedy you simply follow it with a '?' the first 3 characters and then the following 'ab' is matched. greedy by appending a '?' symbol to them: *?, +?, ??, {n,m}?, and {n,}?."
   ]
  },
  {
   "cell_type": "markdown",
   "id": "02fa3348-81cc-4947-a531-87a29b9d2a7d",
   "metadata": {},
   "source": [
    "Q3. In a simple match of a string, which looks only for one match and does not do any replacement, is\n",
    "the use of a nontagged group likely to make any practical difference?"
   ]
  },
  {
   "cell_type": "markdown",
   "id": "5a552135-5c67-4277-bfbe-b1ed84a0ed58",
   "metadata": {},
   "source": [
    "Answer: Yes  the simple looks only for match and dont any replacement so we it might do."
   ]
  },
  {
   "cell_type": "markdown",
   "id": "9968152a-609c-4321-a1d8-ee0757bd5766",
   "metadata": {},
   "source": [
    "Q4. Describe a scenario in which using a nontagged category would have a significant impact on the\n",
    "program's outcomes."
   ]
  },
  {
   "cell_type": "code",
   "execution_count": 1,
   "id": "6ba7b483-63ca-4289-b887-24fdebb1d0f6",
   "metadata": {},
   "outputs": [
    {
     "name": "stdout",
     "output_type": "stream",
     "text": [
      "['1', '1', '4', '1', '8', '8', '6']\n",
      "['11', '4', '1886']\n"
     ]
    }
   ],
   "source": [
    "import re\n",
    " \n",
    "# \\d is equivalent to [0-9].\n",
    "p = re.compile('\\d')\n",
    "print(p.findall(\"I went to him at 11 A.M. on 4th July 1886\"))\n",
    " \n",
    "# \\d+ will match a group on [0-9], group of one or greater size\n",
    "p = re.compile('\\d+')\n",
    "print(p.findall(\"I went to him at 11 A.M. on 4th July 1886\"))\n",
    "\n",
    "#a simple + operator can make a huge difference in outcome in case of regular expressions"
   ]
  },
  {
   "cell_type": "markdown",
   "id": "3d8d98b4-78df-4c74-97a6-3d41e763f2e0",
   "metadata": {},
   "source": [
    "Q5. Unlike a normal regex pattern, a look-ahead condition does not consume the characters it\n",
    "examines. Describe a situation in which this could make a difference in the results of your\n",
    "programme."
   ]
  },
  {
   "cell_type": "markdown",
   "id": "29c4712b-ad0a-47ba-8bb1-87d8f2820f24",
   "metadata": {},
   "source": [
    "Answer: While the order of lookaheads doesn't matter on a logical level, we should keep in mind that it may matter for matching speed. If one lookahead is more likely to fail than the other two, it makes little sense to place it in third position and expend a lot of energy checking the first two conditions. Make it first, so that if we're going to fail, we fail early—an application of the design to fail principle from the regex style guide."
   ]
  },
  {
   "cell_type": "markdown",
   "id": "0dd5776d-b045-4e3f-af93-190f618dcc80",
   "metadata": {},
   "source": [
    "Q6. In standard expressions, what is the difference between positive look-ahead and negative look-\n",
    "ahead?"
   ]
  },
  {
   "cell_type": "markdown",
   "id": "b1965b14-d197-481c-b58b-7a1e292d80be",
   "metadata": {},
   "source": [
    "Answer: Positive lookahead: (?= «pattern») matches if pattern matches what comes after the current location in the input string.\n",
    "\n",
    "Negative lookahead: (?! «pattern») matches if pattern does not match what comes after the current location in the input string."
   ]
  },
  {
   "cell_type": "markdown",
   "id": "e54a51fc-e4ad-4dda-b99b-793723573a5f",
   "metadata": {},
   "source": [
    "Q7. What is the benefit of referring to groups by name rather than by number in a standard\n",
    "expression?"
   ]
  },
  {
   "cell_type": "markdown",
   "id": "6f0c219a-ecd9-4ef4-a2aa-c152f63bf40f",
   "metadata": {},
   "source": [
    "Answer: The advantage to named groups is that it adds readability and understandability to the code, so that we can easily see what part of a regular expression match is being referenced."
   ]
  },
  {
   "cell_type": "markdown",
   "id": "f20c1e20-9b25-4e62-b278-ccf56e6092c5",
   "metadata": {},
   "source": [
    "Q8. Can you identify repeated items within a target string using named groups, as in \"The cow\n",
    "jumped over the moon\"?"
   ]
  },
  {
   "cell_type": "markdown",
   "id": "bf9b92d9-b981-470e-9365-fd9991490089",
   "metadata": {},
   "source": [
    "Answer: In this particular scenario it may be possible by checking it wu=ith the + tag in regex go check for one or more occurances."
   ]
  },
  {
   "cell_type": "markdown",
   "id": "fd872b7b-c1d1-4676-b154-aa436e686230",
   "metadata": {},
   "source": [
    "Q9. When parsing a string, what is at least one thing that the Scanner interface does for you that the\n",
    "re.findall feature does not?"
   ]
  },
  {
   "cell_type": "markdown",
   "id": "99a09189-e7a4-48e0-96cf-a494408e05a8",
   "metadata": {},
   "source": [
    "Answer: search() method is able to find a pattern from any position of the string. The re. It searches from start or end of the given string. If we use method findall to search for a pattern in a given string it will return all occurrences of the pattern."
   ]
  },
  {
   "cell_type": "markdown",
   "id": "9042feed-db76-478b-93aa-4b4e9c1ee5db",
   "metadata": {},
   "source": [
    "Q10. Does a scanner object have to be named scanner?"
   ]
  },
  {
   "cell_type": "markdown",
   "id": "0b884b38-7c8e-4d8e-8fc7-53c44f883a21",
   "metadata": {},
   "source": [
    "Answer: The scan module is part of the microscopy package. It provides a framework for multidimensional scanning routines while acquiring data. Not madatory to keep the same name."
   ]
  }
 ],
 "metadata": {
  "kernelspec": {
   "display_name": "Python 3 (ipykernel)",
   "language": "python",
   "name": "python3"
  },
  "language_info": {
   "codemirror_mode": {
    "name": "ipython",
    "version": 3
   },
   "file_extension": ".py",
   "mimetype": "text/x-python",
   "name": "python",
   "nbconvert_exporter": "python",
   "pygments_lexer": "ipython3",
   "version": "3.10.6"
  }
 },
 "nbformat": 4,
 "nbformat_minor": 5
}
