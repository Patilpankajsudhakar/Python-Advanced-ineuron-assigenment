{
 "cells": [
  {
   "cell_type": "markdown",
   "id": "639a69d3-9c9c-4844-8464-ebd2b841b35d",
   "metadata": {},
   "source": [
    "Q1. Define the relationship between a class and its instances. Is it a one-to-one or a one-to-many\n",
    "partnership, for example?"
   ]
  },
  {
   "cell_type": "markdown",
   "id": "fb35175c-6946-4890-a27b-bad011edf22f",
   "metadata": {},
   "source": [
    "Answer: A class is a blueprint which you use to create objects. An object is an instance of a class - it's a concrete 'thing' that you made using a specific class. So, 'object' and 'instance' are the same thing, but the word 'instance' indicates the relationship of an object to its class. a single object of a class can access multille functions defiend in the class in form of ine to many relationships."
   ]
  },
  {
   "cell_type": "markdown",
   "id": "73590f8e-7224-4693-9df5-8b1eedd6ef09",
   "metadata": {},
   "source": [
    "Q2. What kind of data is held only in an instance?\n"
   ]
  },
  {
   "cell_type": "markdown",
   "id": "69db5b45-e16a-472d-afda-a05b0dea0744",
   "metadata": {},
   "source": [
    "Answer: If the value of a variable varies from object to object, then such variables are called instance variables. For every object, a separate copy of the instance variable will be created. Instance variables are not shared by objects."
   ]
  },
  {
   "cell_type": "markdown",
   "id": "b8c723d9-ffc1-405c-9c34-1fcafc3d765b",
   "metadata": {},
   "source": [
    "Q3. What kind of knowledge is stored in a class?\n"
   ]
  },
  {
   "cell_type": "markdown",
   "id": "05acefe0-d762-4c99-94ac-decbbbf6a6b4",
   "metadata": {},
   "source": [
    "Answer: A class is a user-defined blueprint or prototype from which objects are created. Classes provide a means of bundling data and functionality together. Creating a new class creates a new type of object, allowing new instances of that type to be made."
   ]
  },
  {
   "cell_type": "markdown",
   "id": "8edff88b-df35-4af2-ba3e-5daa31254e8e",
   "metadata": {},
   "source": [
    "Q4. What exactly is a method, and how is it different from a regular function?\n"
   ]
  },
  {
   "cell_type": "markdown",
   "id": "53b34911-e260-4c39-817c-e998bb30900e",
   "metadata": {},
   "source": [
    "Answer: Methods are associated with the objects of the class they belong to. Functions are not associated with any object. Functions operate on the data we pass to them as arguments. Methods are dependent on the class they belong to."
   ]
  },
  {
   "cell_type": "markdown",
   "id": "538016ac-3662-4404-8fc1-12eea1230d0f",
   "metadata": {},
   "source": [
    "Q5. Is inheritance supported in Python, and if so, what is the syntax?\n"
   ]
  },
  {
   "cell_type": "code",
   "execution_count": 1,
   "id": "5fe87ff6-e5b8-4773-be11-a419b3c13503",
   "metadata": {},
   "outputs": [
    {
     "name": "stdout",
     "output_type": "stream",
     "text": [
      "iNeuron Company was established in 2018\n"
     ]
    }
   ],
   "source": [
    "#single level inheritence\n",
    "class Ineuron:\n",
    "    company_website = 'https://ineuron.ai/'\n",
    "    name = 'iNeuron'\n",
    " \n",
    "    def contact_details(self):\n",
    "        print('Contact us at ', self.company_website)\n",
    " \n",
    " \n",
    "class Datascience(Ineuron):\n",
    "    def __init__(self):\n",
    "        self.year_of_establishment= 2018\n",
    " \n",
    "    def est_details(self):\n",
    "        print('{0} Company was established in {1}'\n",
    "              .format(self.name,self.year_of_establishment))\n",
    " \n",
    " \n",
    "ds = Datascience()\n",
    "ds.est_details()\n",
    "     "
   ]
  },
  {
   "cell_type": "markdown",
   "id": "d88f5ccf-fdf6-4213-bdfc-b2f6be878017",
   "metadata": {},
   "source": [
    "Q6. How much encapsulation (making instance or class variables private) does Python support?\n"
   ]
  },
  {
   "cell_type": "markdown",
   "id": "333e0e8e-7c1e-470f-aa90-492c6f65a2c4",
   "metadata": {},
   "source": [
    "Answer: We can protect variables in the class by marking them private. To define a private variable we can add two underscores as a prefix at the start of a variable name. Private members are accessible only within the class, and we can't access them directly from the class objects."
   ]
  },
  {
   "cell_type": "markdown",
   "id": "34346981-d797-4a64-9b1d-9c87ce86049e",
   "metadata": {},
   "source": [
    "Q7. How do you distinguish between a class variable and an instance variable?\n"
   ]
  },
  {
   "cell_type": "markdown",
   "id": "403afde9-57f0-4ef8-824b-988e14672036",
   "metadata": {},
   "source": [
    "Answer: Class varibale: It usually maintains a single shared value for all instances of class even if no instance object of the class exists.\n",
    "\n",
    "Instance Variable: It usually reserves memory for data that the class needs."
   ]
  },
  {
   "cell_type": "markdown",
   "id": "6bd3390c-1856-4cc3-a976-1bb2a3a591b3",
   "metadata": {},
   "source": [
    "Q8. When, if ever, can self be included in a class's method definitions?\n"
   ]
  },
  {
   "cell_type": "markdown",
   "id": "6a726272-a3b0-4589-93c8-833a2ba7cf9b",
   "metadata": {},
   "source": [
    "Answer: Self is always pointing to Current Object."
   ]
  },
  {
   "cell_type": "markdown",
   "id": "0ef72a62-9777-4119-8090-a66010cd594e",
   "metadata": {},
   "source": [
    "Q9. What is the difference between the _ _add_ _ and the _ _radd_ _ methods?\n"
   ]
  },
  {
   "cell_type": "code",
   "execution_count": 2,
   "id": "cbaf2e18-bb2e-4556-bfa6-b1bd33458c50",
   "metadata": {},
   "outputs": [
    {
     "name": "stdout",
     "output_type": "stream",
     "text": [
      "add 88 <__main__.Commuter1 object at 0x7f0ae44b8700>\n",
      "radd 99 88\n",
      "187\n"
     ]
    }
   ],
   "source": [
    "class Commuter1:\n",
    "    def __init__(self, val):\n",
    "        self.val = val\n",
    "    def __add__(self, other):\n",
    "        print('add', self.val, other)\n",
    "        return self.val + other\n",
    "\n",
    "\n",
    "    def __radd__(self, other):\n",
    "        print('radd', self.val, other)\n",
    "        return other + self.val\n",
    "\n",
    "\n",
    "x = Commuter1(88)\n",
    "y = Commuter1(99)\n",
    "\n",
    "print(x + y)"
   ]
  },
  {
   "cell_type": "markdown",
   "id": "ca3ae1bb-ba84-4b15-9e5b-895d722356bd",
   "metadata": {},
   "source": [
    "Q10. When is it necessary to use a reflection method? When do you not need it, even though you\n",
    "support the operation in question?\n"
   ]
  },
  {
   "cell_type": "markdown",
   "id": "e3b20b1b-e6ef-47ed-9d49-212cb1a5573f",
   "metadata": {},
   "source": [
    "Answer: Reflection refers to the ability for code to be able to examine attributes about objects that might be passed as parameters to a function. For example, if we write type(obj) then Python will return an object which represents the type of obj. we need it to reflect the behaviour of data being holded."
   ]
  },
  {
   "cell_type": "markdown",
   "id": "f665a15b-cd43-42eb-a704-ce373927e5c7",
   "metadata": {},
   "source": [
    "Q11. What is the _ _iadd_ _ method called?\n"
   ]
  },
  {
   "cell_type": "markdown",
   "id": "4ded18ce-c81f-4114-aa1b-bc7d80d7af81",
   "metadata": {},
   "source": [
    "Answer: So the main difference between add and iadd is that iadd is actually storing that value its adding into the self.value."
   ]
  },
  {
   "cell_type": "code",
   "execution_count": 3,
   "id": "d9f51319-4e7d-4308-8a49-6669c51ced8a",
   "metadata": {},
   "outputs": [
    {
     "name": "stdout",
     "output_type": "stream",
     "text": [
      "0\n",
      "0\n",
      "2\n"
     ]
    }
   ],
   "source": [
    "class NumString:\n",
    "\n",
    "    def __init__(self, value):\n",
    "        self.value = str(value)\n",
    "\n",
    "    def __int__(self):\n",
    "        return int(self.value)\n",
    "\n",
    "    def __str__(self):\n",
    "        return self.value\n",
    "\n",
    "    def __add__(self, other):\n",
    "        return int(self) + other\n",
    "\n",
    "    def __iadd__(self, other):\n",
    "        self.value = self + other\n",
    "        return self.value\n",
    "\n",
    "some_num1 = NumString(0) # Create an instance of NumString with 0 as value.\n",
    "print(str(some_num1)) # Check what is contained within self.value in this instance.\n",
    "\n",
    "some_num1 + 1 # We add some_num1 to 1, this returns back the calculation using the __add__ method\n",
    "print(str(some_num1)) # check what some_num1 is holding for a self.value\n",
    "\n",
    "some_num1 += 2 # We in-place add some_num1 to 2, this stores and returns the new stored value using __iadd__ method.\n",
    "print(str(some_num1)) # check what some_num1 is holding now?\n"
   ]
  },
  {
   "cell_type": "markdown",
   "id": "07356b9f-90fe-4b1f-82ef-1e62e8fae576",
   "metadata": {},
   "source": [
    "Q12. Is the _ _init_ _ method inherited by subclasses? What do you do if you need to customize its\n",
    "behavior within a subclass?"
   ]
  },
  {
   "cell_type": "markdown",
   "id": "95f5a62b-055a-4ad4-aac6-5cd1e99e5df4",
   "metadata": {},
   "source": [
    "Answer: In Python, it is not compulsory that parent class constructor will always be called first. The order in which the init method is called for a parent or a child class can be modified.\n",
    "\n",
    "A subclass can do more than that; it can define a method that has exactly the same method signature (name and argument types) as a method in its superclass. In that case, the method in the subclass overrides the method in the superclass and effectively replaces its implementation."
   ]
  }
 ],
 "metadata": {
  "kernelspec": {
   "display_name": "Python 3 (ipykernel)",
   "language": "python",
   "name": "python3"
  },
  "language_info": {
   "codemirror_mode": {
    "name": "ipython",
    "version": 3
   },
   "file_extension": ".py",
   "mimetype": "text/x-python",
   "name": "python",
   "nbconvert_exporter": "python",
   "pygments_lexer": "ipython3",
   "version": "3.10.6"
  }
 },
 "nbformat": 4,
 "nbformat_minor": 5
}
