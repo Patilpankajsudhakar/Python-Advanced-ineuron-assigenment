{
 "cells": [
  {
   "cell_type": "markdown",
   "id": "f2e87e7f-5af0-4967-b5ca-b0082744a0c4",
   "metadata": {},
   "source": [
    "Q1. What are the benefits of the built-in array package, if any?\n"
   ]
  },
  {
   "cell_type": "markdown",
   "id": "d618515f-31ac-4ee4-b392-79719ee51c2b",
   "metadata": {},
   "source": [
    "Answer: The Array is much more rigid. That is, the items that an array contains must be of the same type. Therefore, the size of the item will also be the same. We can check the size of each item."
   ]
  },
  {
   "cell_type": "markdown",
   "id": "039a0200-81a2-4716-9b46-799a3c0dc29a",
   "metadata": {},
   "source": [
    "Q2. What are some of the array package's limitations?\n"
   ]
  },
  {
   "cell_type": "markdown",
   "id": "b968181a-caf9-4bd3-8b11-f1ed4a8147a5",
   "metadata": {},
   "source": [
    "Answer: An array which is formed will be homogeneous.\n",
    "\n",
    "While declaring an array, passing size of an array is compulsory, and the size must be a constant.\n",
    "\n",
    "Shifting is required for insertion or deletion of elements in an array"
   ]
  },
  {
   "cell_type": "markdown",
   "id": "002bcea9-711a-4a50-ad33-758ed34c996d",
   "metadata": {},
   "source": [
    "Q3. Describe the main differences between the array and numpy packages.\n"
   ]
  },
  {
   "cell_type": "markdown",
   "id": "e88880e5-fa60-4951-87bb-a1b5f1d11d95",
   "metadata": {},
   "source": [
    "Answer: A numpy array is a grid of values, all of the same type, and is indexed by a tuple of nonnegative integers. A list is the Python equivalent of an array, but is resizeable and can contain elements of different types. The answer to above query the main difference in two is of performance."
   ]
  },
  {
   "cell_type": "markdown",
   "id": "f0f7861d-dce0-4d46-9798-f5b125d5d015",
   "metadata": {},
   "source": [
    "Q4. Explain the distinctions between the empty, ones, and zeros functions.\n"
   ]
  },
  {
   "cell_type": "markdown",
   "id": "54305760-c793-47d1-8701-43b603aad0c6",
   "metadata": {},
   "source": [
    "Answer: The only difference between numpy.empty numpy.ones and numpy.zeros is that empty uses malloc and zeros uses calloc. Also zeros() and ones() are the NumPy library functions to create two different arrays. zeros() function is used to create an array based on the particular shape and type. All array elements are initialized to 0, which is created by the zeros() function. ones() function works like the zeros() function."
   ]
  },
  {
   "cell_type": "markdown",
   "id": "4800851c-db64-44cb-be66-d9300912bff2",
   "metadata": {},
   "source": [
    "Q5. In the fromfunction function, which is used to construct new arrays, what is the role of the callable\n",
    "argument?\n"
   ]
  },
  {
   "cell_type": "markdown",
   "id": "49488231-5256-4f6e-b3a2-629e7c17889b",
   "metadata": {},
   "source": [
    "Answer: fromfunction() function construct an array by executing a function over each coordinate and the resulting array, therefore, has a value fn(x, y, z) at coordinate (x, y, z). Parameters : function : [callable] The function is called with N parameters, where N is the rank of shape."
   ]
  },
  {
   "cell_type": "markdown",
   "id": "4b6fa33e-0ce5-41c5-83bf-8ee5753a19a6",
   "metadata": {},
   "source": [
    "Q6. What happens when a numpy array is combined with a single-value operand (a scalar, such as\n",
    "an int or a floating-point value) through addition, as in the expression A + n?\n"
   ]
  },
  {
   "cell_type": "code",
   "execution_count": 1,
   "id": "2a3167d8-144a-484d-affe-e71eff193ec8",
   "metadata": {},
   "outputs": [
    {
     "name": "stdout",
     "output_type": "stream",
     "text": [
      "[2 3 4 5 6]\n"
     ]
    }
   ],
   "source": [
    "import numpy as np\n",
    "\n",
    "arr = np.array((1, 2, 3, 4, 5))\n",
    "\n",
    "print(arr + 1)"
   ]
  },
  {
   "cell_type": "markdown",
   "id": "f3a97070-1b63-4263-93c2-fa0387565a30",
   "metadata": {},
   "source": [
    "Q7. Can array-to-scalar operations use combined operation-assign operators (such as += or *=)?\n",
    "What is the outcome?\n",
    "Ans: \n",
    "No"
   ]
  },
  {
   "cell_type": "code",
   "execution_count": 2,
   "id": "568b1b72-1ddd-4d81-980c-cae630934f35",
   "metadata": {},
   "outputs": [
    {
     "ename": "SyntaxError",
     "evalue": "invalid syntax (4216562642.py, line 5)",
     "output_type": "error",
     "traceback": [
      "\u001b[0;36m  Cell \u001b[0;32mIn [2], line 5\u001b[0;36m\u001b[0m\n\u001b[0;31m    a = arr += 1\u001b[0m\n\u001b[0m            ^\u001b[0m\n\u001b[0;31mSyntaxError\u001b[0m\u001b[0;31m:\u001b[0m invalid syntax\n"
     ]
    }
   ],
   "source": [
    "#using scalar operations error came\n",
    "import numpy as np\n",
    "\n",
    "arr = np.array((1, 2, 3, 4, 5))\n",
    "a = arr += 1\n",
    "print(a)"
   ]
  },
  {
   "cell_type": "markdown",
   "id": "01bb99ee-2508-469b-b0f7-244468728227",
   "metadata": {},
   "source": [
    "Q8. Does a numpy array contain fixed-length strings? What happens if you allocate a longer string to\n",
    "one of these arrays?\n"
   ]
  },
  {
   "cell_type": "markdown",
   "id": "1dc7b836-a21a-4c0f-bc85-777a11e7f344",
   "metadata": {},
   "source": [
    "Answer: NumPy arrays have a fixed size at creation, unlike Python lists (which can grow dynamically). Changing the size of an ndarray will create a new array and delete the original. The elements in a NumPy array are all required to be of the same data type, and thus will be the same size in memory. if longer strings is allocateed it might cause a computation problem basically increse the time complexity."
   ]
  },
  {
   "cell_type": "markdown",
   "id": "b2466c47-d75c-4ca7-94b7-2b735fc662cf",
   "metadata": {},
   "source": [
    "Q9. What happens when you combine two numpy arrays using an operation like addition (+) or\n",
    "multiplication (*)? What are the conditions for combining two numpy arrays?\n"
   ]
  },
  {
   "cell_type": "code",
   "execution_count": 3,
   "id": "36143af6-a369-4c57-97a6-197db7192b79",
   "metadata": {},
   "outputs": [
    {
     "name": "stdout",
     "output_type": "stream",
     "text": [
      "[[ 6  8]\n",
      " [10 12]]\n",
      "\n",
      " [[ 5 12]\n",
      " [21 32]]\n"
     ]
    }
   ],
   "source": [
    "import numpy as np\n",
    "\n",
    "arr1 = np.array([[1, 2], [3, 4]])\n",
    "\n",
    "arr2 = np.array([[5, 6], [7, 8]])\n",
    "\n",
    "arr = arr1+arr2\n",
    "arr1 = arr1*arr2\n",
    "\n",
    "print(arr)\n",
    "print(\"\\n\",arr1)"
   ]
  },
  {
   "cell_type": "markdown",
   "id": "d4afc297-38cf-4956-9b76-f22ba239130f",
   "metadata": {},
   "source": [
    "Q10. What is the best way to use a Boolean array to mask another array?\n"
   ]
  },
  {
   "cell_type": "markdown",
   "id": "0674162f-dc2d-4aab-bcfb-0dd212b8214b",
   "metadata": {},
   "source": [
    "Answer: Boolean masking is typically the most efficient way to quantify a sub-collection in a collection. Masking in python and data science is when you want manipulated data in a collection based on some criteria. The criteria you use is typically of a true or false nature, hence the boolean part.\n",
    "\n",
    "Using masked_where() function: Pass the two array in the function as a parameter then use numpy. ma. masked_where() function in which pass the condition for masking and array to be masked.\n",
    "\n",
    "Using masked_where(), getmask() and masked_array() function: Pass the two array in the function as a parameter then use numpy. ma."
   ]
  },
  {
   "cell_type": "markdown",
   "id": "832b6a53-1457-443c-8772-ea2663c74581",
   "metadata": {},
   "source": [
    "Q11. What are three different ways to get the standard deviation of a wide collection of data using\n",
    "both standard Python and its packages? Sort the three of them by how quickly they execute.\n"
   ]
  },
  {
   "cell_type": "markdown",
   "id": "a0529401-2c76-4845-9a97-e03b37ef6abb",
   "metadata": {},
   "source": [
    "Answer: one method is shown below standar then we can use pandas or using srpiting line by line to ding standard deviation. using pandas std() is generally nicer way and faster."
   ]
  },
  {
   "cell_type": "code",
   "execution_count": 4,
   "id": "17eaa50a-56c3-43d8-91b8-bb657c308c0f",
   "metadata": {},
   "outputs": [
    {
     "data": {
      "text/plain": [
       "2.4"
      ]
     },
     "execution_count": 4,
     "metadata": {},
     "output_type": "execute_result"
    }
   ],
   "source": [
    "import math\n",
    "def variance(data, ddof=0):\n",
    "  n = len(data)\n",
    "  mean = sum(data) / n\n",
    "  return sum((x - mean) ** 2 for x in data) / (n - ddof)\n",
    "\n",
    "\n",
    "def stdev(data):\n",
    "  var = variance(data)\n",
    "  std_dev = math.sqrt(var)\n",
    "  return std_dev\n",
    "\n",
    "stdev([4, 8, 6, 5, 3, 2, 8, 9, 2, 5])\n"
   ]
  },
  {
   "cell_type": "markdown",
   "id": "536fbc38-ce69-4f0a-a0e0-45241b2c07f2",
   "metadata": {},
   "source": [
    "12. What is the dimensionality of a Boolean mask-generated array?"
   ]
  },
  {
   "cell_type": "code",
   "execution_count": 6,
   "id": "5d5e6ec7-bd3b-4a8d-8834-a50c42c5d5ad",
   "metadata": {},
   "outputs": [
    {
     "name": "stdout",
     "output_type": "stream",
     "text": [
      "[[[[-- 11]\n",
      "   [-- 22]\n",
      "   [3 33]]\n",
      "\n",
      "  [[4 44]\n",
      "   [5 55]\n",
      "   [6 66]]]\n",
      "\n",
      "\n",
      " [[[7 77]\n",
      "   [8 88]\n",
      "   [9 99]]\n",
      "\n",
      "  [[-- 32]\n",
      "   [-- 33]\n",
      "   [-- 34]]]]\n"
     ]
    }
   ],
   "source": [
    "import numpy as np\n",
    "\n",
    "arr = np.asarray([[[[1, 11], [2, 22], [3, 33]],\n",
    "                   [[4, 44], [5, 55], [6, 66]]],\n",
    "                  [[[7, 77], [8, 88], [9, 99]],\n",
    "                   [[0, 32], [1, 33], [2, 34]]]])\n",
    "\n",
    "masked_arr = np.ma.masked_less(arr, 3)\n",
    "\n",
    "print(masked_arr)"
   ]
  }
 ],
 "metadata": {
  "kernelspec": {
   "display_name": "Python 3 (ipykernel)",
   "language": "python",
   "name": "python3"
  },
  "language_info": {
   "codemirror_mode": {
    "name": "ipython",
    "version": 3
   },
   "file_extension": ".py",
   "mimetype": "text/x-python",
   "name": "python",
   "nbconvert_exporter": "python",
   "pygments_lexer": "ipython3",
   "version": "3.10.6"
  }
 },
 "nbformat": 4,
 "nbformat_minor": 5
}
