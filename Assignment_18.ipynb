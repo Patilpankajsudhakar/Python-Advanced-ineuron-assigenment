{
 "cells": [
  {
   "cell_type": "markdown",
   "id": "b0d9e98a-075e-4dca-8894-a97514815c1c",
   "metadata": {},
   "source": [
    "Q1. Describe the differences between text and binary files in a single paragraph.\n"
   ]
  },
  {
   "cell_type": "markdown",
   "id": "dca40cd2-4e00-4acf-999a-670d7fe22ad6",
   "metadata": {},
   "source": [
    "Answer: Binary file contains the data in the form of 0 and 1(series of binary values) and text files contains the data in the form of stream of characters.In general binary files are identified as executable files. But binary files are not in readable form as like text file."
   ]
  },
  {
   "cell_type": "markdown",
   "id": "9fbf48bf-e934-41cc-b9e3-425af99dd9bc",
   "metadata": {},
   "source": [
    "Q2. What are some scenarios where using text files will be the better option? When would you like to\n",
    "use binary files instead of text files?"
   ]
  },
  {
   "cell_type": "markdown",
   "id": "b645bba0-a255-4d8c-b625-3fb1c755f6f9",
   "metadata": {},
   "source": [
    "Answer: text files are commonly used for storage of information. They avoid some of the problems encountered with other file formats, such as endianness, padding bytes, or differences in the number of bytes in a machine word.\n",
    "\n",
    "Binary files are used to store data more compactly. In the text file, a special character whose ASCII value is 26 inserted after the last character to mark the end of file. In the binary file no such character is present. Files keep track of the end of the file from the number of characters present."
   ]
  },
  {
   "cell_type": "markdown",
   "id": "bd76b15f-0a2f-4179-8188-93c8a6a646b3",
   "metadata": {},
   "source": [
    "Q3. What are some of the issues with using binary operations to read and write a Python integer\n",
    "directly to disc?"
   ]
  },
  {
   "cell_type": "markdown",
   "id": "92bb98b1-4762-4feb-9637-1be2e3254c01",
   "metadata": {},
   "source": [
    "Answer: its acutally easy to read a write abinary file with rb and wb mode Alternatively we can use open() and close() can be called explicitly. However, this method requires us to perform error handling ourself, that is, ensure that the file is always closed, even if there is an error during writing. So, using the “with” statement is better in this regard as it will automatically close the file when the block ends."
   ]
  },
  {
   "cell_type": "markdown",
   "id": "19f6561e-7537-40e7-8540-5de28e9270da",
   "metadata": {},
   "source": [
    "Q4. Describe a benefit of using the with keyword instead of explicitly opening a file."
   ]
  },
  {
   "cell_type": "markdown",
   "id": "f3765ee1-9a87-47fe-8254-27354557c2ad",
   "metadata": {},
   "source": [
    "Answer: The with statement itself ensures proper acquisition and release of resources. An exception during the file."
   ]
  },
  {
   "cell_type": "markdown",
   "id": "adba797e-d464-4c72-bf39-58e433934fd2",
   "metadata": {},
   "source": [
    "Q5. Does Python have the trailing newline while reading a line of text? Does Python append a\n",
    "newline when you write a line of text?"
   ]
  },
  {
   "cell_type": "markdown",
   "id": "4c7b8e77-aed0-4702-a576-42ee03a53ee1",
   "metadata": {},
   "source": [
    "Answer: Python readline() is a file method that helps to read one complete line from the given file. It has a trailing newline (“\\n”) at the end of the string returned. for the second part python uses a backslash escape, \\n , which Python converts to a newline character in string literals. It just concatenates your string, name , and that newline character into a bigger string, which gets written to the file."
   ]
  },
  {
   "cell_type": "markdown",
   "id": "83f31ef9-1088-41c7-a1a9-d3373182fd89",
   "metadata": {},
   "source": [
    "Q6. What file operations enable for random-access operation?"
   ]
  },
  {
   "cell_type": "markdown",
   "id": "98e5924c-7515-46ff-a608-ef8364f2aac6",
   "metadata": {},
   "source": [
    "Answer: wecan set offsets in file But if we want to access data in a random fashion, then Python gives us seek() and tell() functions to do so."
   ]
  },
  {
   "cell_type": "markdown",
   "id": "ce96f816-6b0a-48c5-974d-d5749e897303",
   "metadata": {},
   "source": [
    "Q7. When do you think you&#39;ll use the struct package the most?"
   ]
  },
  {
   "cell_type": "markdown",
   "id": "20e9b0ae-737a-41b5-b53d-5dfabb402870",
   "metadata": {},
   "source": [
    "Answer: The struct module in Python is used to convert native Python data types such as strings and numbers into a string of bytes and vice versa. What this means is that users can parse binary files of data stored in C structs in Python.\n",
    "It is used mostly for handling binary data stored in files or from network connections, among other sources."
   ]
  },
  {
   "cell_type": "markdown",
   "id": "19d95152-7359-43ea-8412-e8aef1baed9e",
   "metadata": {},
   "source": [
    "Q8. When is pickling the best option?"
   ]
  },
  {
   "cell_type": "markdown",
   "id": "0d450d02-dd6c-4eef-baf6-91ff9d451b02",
   "metadata": {},
   "source": [
    "Answer: The Python pickle module is a better choice for all the remaining use cases. If we don't need a human-readable format or a standard interoperable format, or if we need to serialize custom objects, then go with pickle ."
   ]
  },
  {
   "cell_type": "markdown",
   "id": "add3746a-49bb-40fd-bae3-fdef46cd6807",
   "metadata": {},
   "source": [
    "Q9. When will it be best to use the shelve package?"
   ]
  },
  {
   "cell_type": "markdown",
   "id": "4a246fc8-8fd8-4180-802c-5f300207325f",
   "metadata": {},
   "source": [
    "Answer: The shelve module implements persistent storage for arbitrary Python objects which can be pickled, using a dictionary-like API. The shelve module can be used as a simple persistent storage option for Python objects when a relational database is overkill."
   ]
  },
  {
   "cell_type": "markdown",
   "id": "120b8bd4-9f1b-4ac3-a5cd-5ce2f1195a93",
   "metadata": {},
   "source": [
    "Q10. What is a special restriction when using the shelve package, as opposed to using other data\n",
    "dictionaries?"
   ]
  },
  {
   "cell_type": "markdown",
   "id": "b7969472-9dbe-4e25-9b60-eb0daf846090",
   "metadata": {},
   "source": [
    "Answer: The shelf dictionary has certain restrictions. Only string data type can be used as key in this special dictionary object, whereas any picklable Python object can be used as value."
   ]
  }
 ],
 "metadata": {
  "kernelspec": {
   "display_name": "Python 3 (ipykernel)",
   "language": "python",
   "name": "python3"
  },
  "language_info": {
   "codemirror_mode": {
    "name": "ipython",
    "version": 3
   },
   "file_extension": ".py",
   "mimetype": "text/x-python",
   "name": "python",
   "nbconvert_exporter": "python",
   "pygments_lexer": "ipython3",
   "version": "3.10.6"
  }
 },
 "nbformat": 4,
 "nbformat_minor": 5
}
