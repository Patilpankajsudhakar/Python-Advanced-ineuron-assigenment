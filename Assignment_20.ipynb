{
 "cells": [
  {
   "cell_type": "markdown",
   "id": "55ab054b-7fb6-4959-9f20-09e29a00fbac",
   "metadata": {},
   "source": [
    "1. Compare and contrast the float and Decimal classes&#39; benefits and drawbacks.\n"
   ]
  },
  {
   "cell_type": "markdown",
   "id": "6d2cab69-45d8-491a-bac7-618900d81af9",
   "metadata": {},
   "source": [
    "Answer: Float stores an approximate value and decimal stores an exact value. In summary, exact values like money should use decimal, and approximate values like scientific measurements should use float. When multiplying a non integer and dividing by that same number, decimals lose precision while floats do not."
   ]
  },
  {
   "cell_type": "markdown",
   "id": "bf18b92a-4251-42fa-a682-72ffabfb7b43",
   "metadata": {},
   "source": [
    "2. Decimal(&#39;1.200&#39;) and Decimal(&#39;1.2&#39;) are two objects to consider. In what sense are these the same\n",
    "object? Are these just two ways of representing the exact same value, or do they correspond to\n",
    "different internal states?"
   ]
  },
  {
   "cell_type": "markdown",
   "id": "6b5c3da3-53f0-4b0e-b8c5-7497d31ddbfe",
   "metadata": {},
   "source": [
    "Answer: the output of both od them will be same this is just a way of representing precision upto 3 decimal points basic mathematics can be seen here in below example. the deciam class while outputting the result rund off the value to 1.2 from 1.200"
   ]
  },
  {
   "cell_type": "code",
   "execution_count": 1,
   "id": "92b01d3b-d5aa-4358-8b19-ca0a0309121b",
   "metadata": {},
   "outputs": [
    {
     "name": "stdout",
     "output_type": "stream",
     "text": [
      "1.2 1.2\n"
     ]
    }
   ],
   "source": [
    "\n",
    "c  = 1.200\n",
    "d = 1.2 \n",
    "print(c,d)\n",
    "     "
   ]
  },
  {
   "cell_type": "markdown",
   "id": "2be485ff-f7ec-4f36-ac37-f069c3f0a8c8",
   "metadata": {},
   "source": [
    "3. What happens if the equality of Decimal(&#39;1.200&#39;) and Decimal(&#39;1.2&#39;) is checked?\n"
   ]
  },
  {
   "cell_type": "markdown",
   "id": "431dd52d-9bb5-4a40-bcb6-7d7e97c561dd",
   "metadata": {},
   "source": [
    "Answer: Float stores an approximate value and decimal stores an exact value"
   ]
  },
  {
   "cell_type": "code",
   "execution_count": 4,
   "id": "59ec6147-dec6-4363-8738-218b50652d16",
   "metadata": {},
   "outputs": [
    {
     "name": "stdout",
     "output_type": "stream",
     "text": [
      "1.2 1.2\n",
      "<class 'float'>\n"
     ]
    }
   ],
   "source": [
    "c  = 1.200\n",
    "d = 1.2 \n",
    "if c == d:\n",
    " print(c,d)\n",
    "print(type(c))"
   ]
  },
  {
   "cell_type": "markdown",
   "id": "aa107dad-1781-42b3-8409-1ef62120d687",
   "metadata": {},
   "source": [
    "4. Why is it preferable to start a Decimal object with a string rather than a floating-point value?\n"
   ]
  },
  {
   "cell_type": "markdown",
   "id": "85d1bcfa-3f01-4ed3-a7f0-cff10a7db110",
   "metadata": {},
   "source": [
    "Answer: Because using floats for currency will just cause errors down the road. floats are NOT usable for representing real world values like money - not reliably, anyways."
   ]
  },
  {
   "cell_type": "code",
   "execution_count": 5,
   "id": "c4af4372-3a3d-42a3-b8be-37a6b9277a75",
   "metadata": {},
   "outputs": [
    {
     "name": "stdout",
     "output_type": "stream",
     "text": [
      "0.142857\n",
      "0.1428571428571428571428571429\n"
     ]
    }
   ],
   "source": [
    "from decimal import *\n",
    "getcontext().prec = 6\n",
    "print(Decimal(1) / Decimal(7))\n",
    "getcontext().prec = 28\n",
    "print(Decimal(1) / Decimal(7))"
   ]
  },
  {
   "cell_type": "markdown",
   "id": "13f8c2c4-19c5-4378-9d87-eaff37a3e572",
   "metadata": {},
   "source": [
    "5. In an arithmetic phrase, how simple is it to combine Decimal objects with integers?\n"
   ]
  },
  {
   "cell_type": "markdown",
   "id": "9ed61339-41fb-4d7a-8860-c96c9caadd35",
   "metadata": {},
   "source": [
    "Answer: Shown below\n",
    ".6 + 1"
   ]
  },
  {
   "cell_type": "code",
   "execution_count": 6,
   "id": "f566fb91-fab9-488b-957d-219b1b76596c",
   "metadata": {},
   "outputs": [
    {
     "data": {
      "text/plain": [
       "1.6"
      ]
     },
     "execution_count": 6,
     "metadata": {},
     "output_type": "execute_result"
    }
   ],
   "source": [
    ".6 + 1"
   ]
  },
  {
   "cell_type": "markdown",
   "id": "c2dadf8a-3a69-4657-9c91-59b117a9eefb",
   "metadata": {},
   "source": [
    "6. Can Decimal objects and floating-point values be combined easily?\n"
   ]
  },
  {
   "cell_type": "markdown",
   "id": "09042836-7169-458d-a92d-7c65319b56eb",
   "metadata": {},
   "source": [
    "Answer: Decimal objects cannot generally be combined with floats or instances of fractions."
   ]
  },
  {
   "cell_type": "markdown",
   "id": "58c4b327-ac6f-42c3-a231-ac57b762c3e2",
   "metadata": {},
   "source": [
    "7. Using the Fraction class but not the Decimal class, give an example of a quantity that can be\n",
    "expressed with absolute precision.\n"
   ]
  },
  {
   "cell_type": "code",
   "execution_count": 7,
   "id": "c32cd851-72a4-4d2f-8774-db3a8b594567",
   "metadata": {},
   "outputs": [
    {
     "name": "stdout",
     "output_type": "stream",
     "text": [
      "11/35\n",
      "5/9\n",
      "0\n"
     ]
    }
   ],
   "source": [
    "from fractions import Fraction\n",
    "\n",
    "print (Fraction(11, 35))\n",
    "# returns Fraction(11, 35)\n",
    "print (Fraction(10, 18))\n",
    "# returns Fraction(5, 9)\n",
    "print (Fraction())\n",
    "# returns Fraction(0, 1)\n"
   ]
  },
  {
   "cell_type": "code",
   "execution_count": 8,
   "id": "47f6363f-3e74-4585-a58b-f2060cb262f5",
   "metadata": {},
   "outputs": [
    {
     "name": "stdout",
     "output_type": "stream",
     "text": [
      "157079632679489661923/50000000000000000000\n",
      "355/113\n",
      "311/99\n",
      "22/7\n",
      "5\n",
      "2\n"
     ]
    }
   ],
   "source": [
    "from fractions import Fraction\n",
    "print (Fraction('3.14159265358979323846'))\n",
    "print (Fraction('3.14159265358979323846').limit_denominator(10000))\n",
    "print (Fraction('3.14159265358979323846').limit_denominator(100))\n",
    "print (Fraction('3.14159265358979323846').limit_denominator(10))\n",
    "print (Fraction(125, 50).numerator)\n",
    "print (Fraction(125, 50).denominator)"
   ]
  },
  {
   "cell_type": "markdown",
   "id": "f4b7c6e6-ea5a-48e7-916c-dfbdbb018cfc",
   "metadata": {},
   "source": [
    "8. Describe a quantity that can be accurately expressed by the Decimal or Fraction classes but not by\n",
    "a floating-point value.\n"
   ]
  },
  {
   "cell_type": "markdown",
   "id": "671864bb-b928-4857-8551-72a3b29e5dc1",
   "metadata": {},
   "source": [
    "Answer: 0.00011 is a finite representation of an infinite number of digits. That doesn't help us with floating-point. Floating-point does not represent numbers using repeat bars; it represents them with a fixed number of bits it can be represented by decimal or fraction class"
   ]
  },
  {
   "cell_type": "markdown",
   "id": "052c954e-57e4-48cb-b028-4e3f3443a94d",
   "metadata": {},
   "source": [
    "Q9.Consider the following two fraction objects: Fraction(1, 2) and Fraction(1, 2). (5, 10). Is the internal\n",
    "state of these two objects the same? Why do you think that is?\n"
   ]
  },
  {
   "cell_type": "markdown",
   "id": "0f11da55-2b85-48d5-9842-cb83bda9391c",
   "metadata": {},
   "source": [
    "Answer: the internal state is same will give fraction of 1/2"
   ]
  },
  {
   "cell_type": "markdown",
   "id": "24d56ca1-4410-4ef2-8837-b692cdddb2dc",
   "metadata": {},
   "source": [
    "Q10. How do the Fraction class and the integer type (int) relate to each other? Containment or\n",
    "inheritance?"
   ]
  },
  {
   "cell_type": "markdown",
   "id": "13855d35-05d7-40b2-9413-a2ff75b21912",
   "metadata": {},
   "source": [
    "Answer: Inheritence"
   ]
  }
 ],
 "metadata": {
  "kernelspec": {
   "display_name": "Python 3 (ipykernel)",
   "language": "python",
   "name": "python3"
  },
  "language_info": {
   "codemirror_mode": {
    "name": "ipython",
    "version": 3
   },
   "file_extension": ".py",
   "mimetype": "text/x-python",
   "name": "python",
   "nbconvert_exporter": "python",
   "pygments_lexer": "ipython3",
   "version": "3.10.6"
  }
 },
 "nbformat": 4,
 "nbformat_minor": 5
}
