{
 "cells": [
  {
   "cell_type": "markdown",
   "id": "2dc22a10-0ff6-4be8-b55c-5f5039b28050",
   "metadata": {},
   "source": [
    "Q1. Can you create a programme or function that employs both positive and negative indexing? Is\n",
    "there any repercussion if you do so?"
   ]
  },
  {
   "cell_type": "code",
   "execution_count": 1,
   "id": "9e6c82cb-8ad5-460a-894d-3715952a9927",
   "metadata": {},
   "outputs": [
    {
     "name": "stdout",
     "output_type": "stream",
     "text": [
      "H\n",
      "e\n"
     ]
    }
   ],
   "source": [
    "def decision():\n",
    "    greetings = \"Hello people\"\n",
    "    print(greetings[0]) \n",
    "    print(greetings[-1])\n",
    "\n",
    "decision()"
   ]
  },
  {
   "cell_type": "markdown",
   "id": "3735f2dd-220e-444d-abee-249e7c292fe4",
   "metadata": {},
   "source": [
    "Q2. What is the most effective way of starting with 1,000 elements in a Python list? Assume that all\n",
    "elements should be set to the same value.\n",
    "Answer:\n",
    " list comprehension and * operator are fastest followed by while and for loop for loop in list."
   ]
  },
  {
   "cell_type": "code",
   "execution_count": 1,
   "id": "36858a1c-da8d-4c94-a83d-830db3b83ced",
   "metadata": {},
   "outputs": [
    {
     "name": "stdout",
     "output_type": "stream",
     "text": [
      "Average time taken by for loop: 0.00774116039276123\n",
      "Average time taken by while loop: 0.013549342155456542\n",
      "Average time taken by list comprehensions: 0.003020496368408203\n",
      "Average time taken by * operator: 0.00018039941787719726\n"
     ]
    }
   ],
   "source": [
    "# import time module to calculate times\n",
    "import time\n",
    "forLoopTime = []\n",
    "whileLoopTime = []\n",
    "listComprehensionTime = []\n",
    "starOperatorTime = []\n",
    "# repeat the process for 500 times and calculate average of times taken.\n",
    "for k in range(500):\n",
    "\t# start time\n",
    "\tstart = time.time()\n",
    "\t# declare empty list\n",
    "\ta = []\n",
    "\t# run a for loop for 10000 times\n",
    "\tfor i in range(10000):\n",
    "\t\ta.append(0)\n",
    "\t# stop time\n",
    "\tstop = time.time()\n",
    "\tforLoopTime.append(stop-start)\n",
    "\t# start time\n",
    "\tstart = time.time()\n",
    "\t# declare an empty list\n",
    "\ta = []\n",
    "\ti = 0\n",
    "\t# run a for loop 10000 times\n",
    "\twhile(i<10000):\n",
    "\t\ta.append(0)\n",
    "\t\ti+= 1\n",
    "\tstop = time.time()\n",
    "\twhileLoopTime.append(stop-start)\n",
    "\n",
    "\tstart = time.time()\n",
    "\t# list comprehension to initialize list\n",
    "\ta = [0 for i in range(10000)]\n",
    "\tstop = time.time()\n",
    "\tlistComprehensionTime.append(stop-start)\n",
    "\n",
    "\tstart = time.time()\n",
    "\t# using the * operator\n",
    "\ta = [0]*10000\n",
    "\tstop = time.time()\n",
    "\tstarOperatorTime.append(stop-start)\n",
    "\n",
    "print(\"Average time taken by for loop: \" + str(sum(forLoopTime)/100))\n",
    "print(\"Average time taken by while loop: \" + str(sum(whileLoopTime)/100))\n",
    "print(\"Average time taken by list comprehensions: \" + str(sum(listComprehensionTime)/100))#runnerup\n",
    "print(\"Average time taken by * operator: \" + str(sum(starOperatorTime)/100))\t#fastest\n"
   ]
  },
  {
   "cell_type": "markdown",
   "id": "a401b72a-9675-4374-b0d4-6849ce3d6fc4",
   "metadata": {},
   "source": [
    "Q3. How do you slice a list to get any other part while missing the rest? (For example, suppose you\n",
    "want to make a new list with the elements first, third, fifth, seventh, and so on.)"
   ]
  },
  {
   "cell_type": "code",
   "execution_count": 2,
   "id": "93f9c333-1d0d-4b42-a537-6b826c841722",
   "metadata": {},
   "outputs": [
    {
     "name": "stdout",
     "output_type": "stream",
     "text": [
      "[1, 3, 5, 7, 9, 11]\n"
     ]
    }
   ],
   "source": [
    "b = [1,2,3,4,5,6,7,8,9,10,11,12]\n",
    "print(b[::2])"
   ]
  },
  {
   "cell_type": "markdown",
   "id": "b199cda3-c160-484d-a8bd-d427244e01b2",
   "metadata": {},
   "source": [
    "Q4. Explain the distinctions between indexing and slicing."
   ]
  },
  {
   "cell_type": "markdown",
   "id": "c96fc677-292e-4784-8cce-aa3e16e6f175",
   "metadata": {},
   "source": [
    "Answer: “Indexing” means referring to an element of an iterable by its position within the iterable. “Slicing” means getting a subset of elements from an iterable based on their indices."
   ]
  },
  {
   "cell_type": "markdown",
   "id": "1e770e3e-12e1-425a-a798-b415423b0845",
   "metadata": {},
   "source": [
    "Q5. What happens if one of the slicing expression's indexes is out of range?"
   ]
  },
  {
   "cell_type": "code",
   "execution_count": 4,
   "id": "a15664f7-4358-48e6-835d-a7cadb5c2035",
   "metadata": {},
   "outputs": [
    {
     "name": "stdout",
     "output_type": "stream",
     "text": [
      "[]\n"
     ]
    }
   ],
   "source": [
    "b = [1,2,3,4,5,6,7,8,9,10,11,12]\n",
    "print(b[34:44:1]) # get empty list"
   ]
  },
  {
   "cell_type": "markdown",
   "id": "68e12f20-79f7-4777-9b48-3461d18f1546",
   "metadata": {},
   "source": [
    "Q6. If you pass a list to a function, and if you want the function to be able to change the values of the\n",
    "list—so that the list is different after the function returns—what action should you avoid?"
   ]
  },
  {
   "cell_type": "markdown",
   "id": "2532f09b-4a6c-4628-bfd7-50ac2ebb381e",
   "metadata": {},
   "source": [
    "Answer: the list will change list are mutable but we can also prevent that by creating a deepcopy of it before."
   ]
  },
  {
   "cell_type": "markdown",
   "id": "d43aa16c-d04b-487f-92bf-4caf161cd142",
   "metadata": {},
   "source": [
    "Q7. What is the concept of an unbalanced matrix?"
   ]
  },
  {
   "cell_type": "markdown",
   "id": "d85f6ccf-22a5-47a4-b292-be2e993f6eb2",
   "metadata": {},
   "source": [
    "Answer: A matrix is balanced if all cells in the matrix are balanced and a cell of the matrix is balanced if the number of cells in that matrix that are adjacent to that cell is strictly greater than the value written in this cell. .\n",
    "\n",
    "Input: N = 3, M = 3\n",
    "\n",
    "mat[][] = {{1, 2, 3},\n",
    "\n",
    "{4, 5, 6},\n",
    "\n",
    "{7, 8, 9}}\n",
    "\n",
    "Output: Unbalanced\n",
    "Explanation: Each cell of the given grid is not stable, so the overall grid is unbalanced."
   ]
  },
  {
   "cell_type": "markdown",
   "id": "4296cd3a-6890-4e0f-b01c-7b560dba4419",
   "metadata": {},
   "source": [
    "Q8. Why is it necessary to use either list comprehension or a loop to create arbitrarily large matrices?"
   ]
  },
  {
   "cell_type": "markdown",
   "id": "37df5b33-7c81-4da3-9239-e5b81d3cb03e",
   "metadata": {},
   "source": [
    "Answer: list comprehension or a loop specifically list comprehension can simplify our code, but if you put too much logic inside, they will instead become harder to read and understand. loop specifically are also fast as we have seen in previous questions using time."
   ]
  }
 ],
 "metadata": {
  "kernelspec": {
   "display_name": "Python 3 (ipykernel)",
   "language": "python",
   "name": "python3"
  },
  "language_info": {
   "codemirror_mode": {
    "name": "ipython",
    "version": 3
   },
   "file_extension": ".py",
   "mimetype": "text/x-python",
   "name": "python",
   "nbconvert_exporter": "python",
   "pygments_lexer": "ipython3",
   "version": "3.10.6"
  }
 },
 "nbformat": 4,
 "nbformat_minor": 5
}
