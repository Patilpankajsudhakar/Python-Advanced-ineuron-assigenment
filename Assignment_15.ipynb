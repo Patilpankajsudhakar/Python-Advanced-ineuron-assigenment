{
 "cells": [
  {
   "cell_type": "markdown",
   "id": "6d40a112-6102-4ef5-b723-7285f270235e",
   "metadata": {},
   "source": [
    "1. What are the new features added in Python 3.8 version?"
   ]
  },
  {
   "cell_type": "markdown",
   "id": "d1d52037-f1e1-4e9a-b275-fd0257a69c54",
   "metadata": {},
   "source": [
    "Answer: Python 3.8 adds some new syntax to the language, a few minor changes to existing behavior, and mostly a bunch of speed improvements — maintaining the tradition from the earlier 3.7 release\n",
    "\n",
    "Example: PEP 572 (Assignment Expressions) – The walrus operator (:=)"
   ]
  },
  {
   "cell_type": "markdown",
   "id": "97fe5e9c-d4af-4eb6-9ac4-f99d0235af72",
   "metadata": {},
   "source": [
    "2. What is monkey patching in Python?"
   ]
  },
  {
   "cell_type": "markdown",
   "id": "d254dd5e-80b7-4609-8e45-1d86798f1406",
   "metadata": {},
   "source": [
    "Answer: In Python, the term monkey patch refers to dynamic (or run-time) modifications of a class or module. In Python, we can actually change the behavior of code at run-time."
   ]
  },
  {
   "cell_type": "code",
   "execution_count": 13,
   "id": "444f1460-209f-4516-95f2-2de6cde28a45",
   "metadata": {},
   "outputs": [],
   "source": [
    "# save as monk.py and calll below \n",
    "class A:\n",
    "    def func(self):\n",
    "        print (\"func() is being called\")"
   ]
  },
  {
   "cell_type": "code",
   "execution_count": null,
   "id": "a2f2487e-7c96-491f-bde9-0c1ec3c7b001",
   "metadata": {},
   "outputs": [],
   "source": [
    "def monkey_f(self):\n",
    "\tprint (\"monkey_f() is being called\")\n",
    "\n",
    "# replacing address of \"func\" with \"monkey_f\"\n",
    "monk.A.func = monkey_f\n",
    "obj = monk.A()\n",
    "\n",
    "# calling function \"func\" whose address got replaced with function \"monkey_f()\"\n",
    "obj.func()\n"
   ]
  },
  {
   "cell_type": "markdown",
   "id": "10aa98d7-1548-43f2-b7a8-f4f60d302382",
   "metadata": {},
   "source": [
    "3. What is the difference between a shallow copy and deep copy?"
   ]
  },
  {
   "cell_type": "markdown",
   "id": "3cd5f0d7-8e97-4a0c-8739-27ac978f1154",
   "metadata": {},
   "source": [
    "Answer: A shallow copy constructs a new compound object and then (to the extent possible) inserts references into it to the objects found in the original. A deep copy constructs a new compound object and then, recursively, inserts copies into it of the objects found in the original."
   ]
  },
  {
   "cell_type": "markdown",
   "id": "ed0118ce-102a-4e5d-94d9-662aa02d7abb",
   "metadata": {},
   "source": [
    "4. What is the maximum possible length of an identifier?"
   ]
  },
  {
   "cell_type": "markdown",
   "id": "93c3855a-c841-4c9b-96b9-2c137aeb8da1",
   "metadata": {},
   "source": [
    "Answer: Identifiers can be a combination of letters, numbers, special symbols, etc. But it must not extend 31 characters. Hence, the maximum possible length of an identifier is 31"
   ]
  },
  {
   "cell_type": "markdown",
   "id": "8594d7db-1dd9-489c-a502-8a7452bad5ac",
   "metadata": {},
   "source": [
    "5. What is generator comprehension?"
   ]
  },
  {
   "cell_type": "markdown",
   "id": "8aadf449-3fed-4ae3-b3fe-05bbf9bf0acb",
   "metadata": {},
   "source": [
    "Answer: A generator comprehension is a single-line specification for defining a generator in Python."
   ]
  },
  {
   "cell_type": "code",
   "execution_count": 14,
   "id": "7f8749f2-39c0-4dde-8639-96c6600cb4ac",
   "metadata": {},
   "outputs": [
    {
     "name": "stdout",
     "output_type": "stream",
     "text": [
      "<generator object <genexpr> at 0x7fce3e087290>\n"
     ]
    }
   ],
   "source": [
    "gen = (i**2 for i in range(100))\n",
    "print(gen)"
   ]
  },
  {
   "cell_type": "code",
   "execution_count": 15,
   "id": "b21c6edf-a105-4828-acd3-c2704aece2f2",
   "metadata": {},
   "outputs": [
    {
     "data": {
      "text/plain": [
       "328350"
      ]
     },
     "execution_count": 15,
     "metadata": {},
     "output_type": "execute_result"
    }
   ],
   "source": [
    "gen = (i**2 for i in range(100))\n",
    "sum(gen)\n",
    "     "
   ]
  },
  {
   "cell_type": "code",
   "execution_count": 16,
   "id": "4ba7f1a5-52e4-4ba5-8eda-a838df93f893",
   "metadata": {},
   "outputs": [
    {
     "data": {
      "text/plain": [
       "True"
      ]
     },
     "execution_count": 16,
     "metadata": {},
     "output_type": "execute_result"
    }
   ],
   "source": [
    "\n",
    "gen = (i for i in range(1, 11))\n",
    "5 in gen"
   ]
  }
 ],
 "metadata": {
  "kernelspec": {
   "display_name": "Python 3 (ipykernel)",
   "language": "python",
   "name": "python3"
  },
  "language_info": {
   "codemirror_mode": {
    "name": "ipython",
    "version": 3
   },
   "file_extension": ".py",
   "mimetype": "text/x-python",
   "name": "python",
   "nbconvert_exporter": "python",
   "pygments_lexer": "ipython3",
   "version": "3.10.6"
  }
 },
 "nbformat": 4,
 "nbformat_minor": 5
}
