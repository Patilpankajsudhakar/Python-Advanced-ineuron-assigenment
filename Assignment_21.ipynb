{
 "cells": [
  {
   "cell_type": "markdown",
   "id": "3fc7bae2-7e37-4769-824b-f0a968fb048c",
   "metadata": {},
   "source": [
    "Q1. What is a probability distribution, exactly? If the values are meant to be random, how can you\n",
    "predict them at all?\n"
   ]
  },
  {
   "cell_type": "markdown",
   "id": "9d55680c-2b4a-4d42-b795-ac1de6448774",
   "metadata": {},
   "source": [
    "Answer: A probability distribution is a statistical function that describes all the possible values and likelihoods that a random variable can take within a given range. These factors include the distribution's mean (average), standard deviation, skewness, and kurtosis.\n",
    "\n",
    "If the values are meant to be random, we can predict them using following steps:\n",
    "\n",
    "Step 1: List all simple events in sample space.\n",
    "\n",
    "Step 2: Find probability for each simple event.\n",
    "\n",
    "Step 3: List possible values for random variable X and identify the value for each simple event.\n",
    "\n",
    "Step 4: Find all simple events for which X = k, for each possible value k."
   ]
  },
  {
   "cell_type": "markdown",
   "id": "c93df2ee-a7bd-4b41-a842-fb1dada1f345",
   "metadata": {},
   "source": [
    "Q2. Is there a distinction between true random numbers and pseudo-random numbers, if there is\n",
    "one? Why are the latter considered “good enough”?\n"
   ]
  },
  {
   "cell_type": "markdown",
   "id": "3a0ee4a1-66e2-4b37-834c-7895f1da2a21",
   "metadata": {},
   "source": [
    "Answer: The difference between true random number generators(TRNGs) and pseudo-random number generators(PRNGs) is that TRNGs use an unpredictable physical means to generate numbers (like atmospheric noise), and PRNGs use mathematical algorithms (completely computer-generated). pseudo-random number are good enough because we usually don't need true randomness for most applications. What We need is unpredictability. If we're using a random number generator in a game, we don't care if the numbers are truly random; we only care that they aren't predictable."
   ]
  },
  {
   "cell_type": "markdown",
   "id": "2929fb00-bfcf-45e7-82b8-b79e83ca496f",
   "metadata": {},
   "source": [
    "Q3. What are the two main factors that influence the behaviour of a &quot;normal&quot; probability distribution?\n"
   ]
  },
  {
   "cell_type": "markdown",
   "id": "eaa81d91-bfa3-49f5-9c2d-1383777177f3",
   "metadata": {},
   "source": [
    "Answer: The first rule states that the sum of the probabilities must equal 1. The second rule states that each probability must be between 0 and 1, inclusive."
   ]
  },
  {
   "cell_type": "markdown",
   "id": "ae464b0b-7a69-4ecc-8169-187d734868d5",
   "metadata": {},
   "source": [
    "Q4. Provide a real-life example of a normal distribution.\n"
   ]
  },
  {
   "cell_type": "markdown",
   "id": "5a669bee-98f4-47fe-96e0-548d65544d07",
   "metadata": {},
   "source": [
    "Answer: Rolling A Dice\n",
    "\n",
    "A fair rolling of dice is also a good example of normal distribution. In an experiment, it has been found that when a dice is rolled 100 times, chances to get '1' are 15-18% and if we roll the dice 1000 times, the chances to get '1' is, again, the same, which averages to 16.7% (1/6)."
   ]
  },
  {
   "cell_type": "markdown",
   "id": "9ddb0ddd-e7f8-43c3-97ce-7abd46a22055",
   "metadata": {},
   "source": [
    "Q5. In the short term, how can you expect a probability distribution to behave? What do you think will\n",
    "happen as the number of trials grows?\n"
   ]
  },
  {
   "cell_type": "markdown",
   "id": "4713bde8-3f3d-42a7-bcf3-307e84b075c1",
   "metadata": {},
   "source": [
    "Answer: Depends on the data for the distribution. it initially wil be rising and after a certain threshold achieving it it will go down."
   ]
  },
  {
   "cell_type": "markdown",
   "id": "78730ed5-95fb-4a5a-8a41-33ae348ef8d1",
   "metadata": {},
   "source": [
    "Q6. What kind of object can be shuffled by using random.shuffle?\n"
   ]
  },
  {
   "cell_type": "markdown",
   "id": "e0c6114c-51b7-4533-9489-6c01e329157e",
   "metadata": {},
   "source": [
    "Answer: random provides shuffle() that shuffles the original list in place, and sample() that returns a new list that is randomly shuffled. sample() can also be used for strings and tuples."
   ]
  },
  {
   "cell_type": "markdown",
   "id": "82a2050c-1e25-41c9-9cff-85d5c6a95021",
   "metadata": {},
   "source": [
    "Q7. Describe the math package&#39;s general categories of functions.\n"
   ]
  },
  {
   "cell_type": "markdown",
   "id": "40e78ffa-b5a1-407d-a6ec-3d104a491cb8",
   "metadata": {},
   "source": [
    "Answer: sin, cos, sqrt, pow, log, exp etc."
   ]
  },
  {
   "cell_type": "markdown",
   "id": "6ef3b35b-d95d-4649-b189-8609635d335b",
   "metadata": {},
   "source": [
    "Q8. What is the relationship between exponentiation and logarithms?\n"
   ]
  },
  {
   "cell_type": "markdown",
   "id": "51312b05-d42e-47ed-9416-983e921f5c25",
   "metadata": {},
   "source": [
    "Answer: Logarithmic functions are the inverses of exponential functions. The inverse of the exponential function y = a^x is x = a^y. The logarithmic function y = log_a^x is defined to be equivalent to the exponential equation x = a^y."
   ]
  },
  {
   "cell_type": "markdown",
   "id": "7077416f-5f03-4795-b670-f65484cb2970",
   "metadata": {},
   "source": [
    "Q9. What are the three logarithmic functions that Python supports?"
   ]
  },
  {
   "cell_type": "markdown",
   "id": "1d86de80-58fe-40d1-a9cd-e03511fb31a4",
   "metadata": {},
   "source": [
    "Answer: log2(x)\n",
    "\n",
    "log(x, Base)\n",
    "\n",
    "log10(x)\n",
    "\n",
    "log1p(x)"
   ]
  }
 ],
 "metadata": {
  "kernelspec": {
   "display_name": "Python 3 (ipykernel)",
   "language": "python",
   "name": "python3"
  },
  "language_info": {
   "codemirror_mode": {
    "name": "ipython",
    "version": 3
   },
   "file_extension": ".py",
   "mimetype": "text/x-python",
   "name": "python",
   "nbconvert_exporter": "python",
   "pygments_lexer": "ipython3",
   "version": "3.10.6"
  }
 },
 "nbformat": 4,
 "nbformat_minor": 5
}
